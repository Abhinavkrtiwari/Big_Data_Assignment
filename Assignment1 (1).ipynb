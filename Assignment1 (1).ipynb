{
  "nbformat": 4,
  "nbformat_minor": 0,
  "metadata": {
    "colab": {
      "provenance": [],
      "toc_visible": true
    },
    "kernelspec": {
      "name": "python3",
      "display_name": "Python 3"
    },
    "language_info": {
      "name": "python"
    }
  },
  "cells": [
    {
      "cell_type": "code",
      "execution_count": 1,
      "metadata": {
        "colab": {
          "base_uri": "https://localhost:8080/"
        },
        "id": "FIZv-ZMVItTl",
        "outputId": "34a4390e-d8f2-41ff-9c39-fe027d84cdec"
      },
      "outputs": [
        {
          "output_type": "stream",
          "name": "stdout",
          "text": [
            "Using return: [49, 977, 970, 876, 309] ...\n",
            "Using yield: [864, 123, 739, 847, 864] ...\n"
          ]
        }
      ],
      "source": [
        "import random\n",
        "\n",
        "def generate_numbers_return():\n",
        "    numbers = [random.randint(1, 1000) for _ in range(100)]  # Generate 100 random numbers\n",
        "    return numbers\n",
        "\n",
        "def generate_numbers_yield():\n",
        "    for _ in range(100):\n",
        "        yield random.randint(1, 1000)  # Yield one number at a time\n",
        "\n",
        "\n",
        "returned_numbers = generate_numbers_return()\n",
        "print(\"Using return:\", returned_numbers[:5], \"...\")  # Display first 5 numbers\n",
        "\n",
        "# Using yield function\n",
        "yielded_numbers = generate_numbers_yield()\n",
        "print(\"Using yield:\", list(yielded_numbers)[:5], \"...\")  # Convert generator to list and show first 5 numbers\n"
      ]
    }
  ]
}